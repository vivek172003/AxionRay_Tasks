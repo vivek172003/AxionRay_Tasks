{
 "cells": [
  {
   "cell_type": "markdown",
   "id": "cfb4c131",
   "metadata": {},
   "source": [
    "# Simple Tag Generation using NLTK\n",
    "\n",
    "This notebook demonstrates a very simple approach to generate tags from vehicle repair descriptions using the Natural Language Toolkit (NLTK)."
   ]
  },
  {
   "cell_type": "code",
   "execution_count": 4,
   "id": "b18324b3",
   "metadata": {},
   "outputs": [
    {
     "name": "stderr",
     "output_type": "stream",
     "text": [
      "[nltk_data] Downloading package punkt to\n",
      "[nltk_data]     C:\\Users\\prabhakula.v\\AppData\\Roaming\\nltk_data...\n",
      "[nltk_data]   Package punkt is already up-to-date!\n",
      "[nltk_data] Downloading package stopwords to\n",
      "[nltk_data]     C:\\Users\\prabhakula.v\\AppData\\Roaming\\nltk_data...\n",
      "[nltk_data]   Package stopwords is already up-to-date!\n",
      "[nltk_data] Downloading package wordnet to\n",
      "[nltk_data]     C:\\Users\\prabhakula.v\\AppData\\Roaming\\nltk_data...\n",
      "[nltk_data]   Package wordnet is already up-to-date!\n"
     ]
    },
    {
     "data": {
      "text/plain": [
       "True"
      ]
     },
     "execution_count": 4,
     "metadata": {},
     "output_type": "execute_result"
    }
   ],
   "source": [
    "# Step 1: Import libraries\n",
    "import pandas as pd\n",
    "import nltk\n",
    "import re\n",
    "from collections import Counter\n",
    "\n",
    "# Download necessary NLTK resources\n",
    "nltk.download('punkt')\n",
    "nltk.download('stopwords')\n",
    "nltk.download('wordnet')"
   ]
  },
  {
   "cell_type": "markdown",
   "id": "ecf9c98b",
   "metadata": {},
   "source": [
    "## Load and View the Data\n",
    "\n",
    "Let's first load our data and take a look at a few examples."
   ]
  },
  {
   "cell_type": "code",
   "execution_count": 5,
   "id": "ec93d693",
   "metadata": {},
   "outputs": [
    {
     "name": "stdout",
     "output_type": "stream",
     "text": [
      "Total records: 100\n",
      "Columns in the dataframe: ['VIN', 'TRANSACTION_ID', 'CORRECTION_VERBATIM', 'CUSTOMER_VERBATIM', 'REPAIR_DATE', 'CAUSAL_PART_NM', 'GLOBAL_LABOR_CODE_DESCRIPTION', 'PLATFORM', 'BODY_STYLE', 'VPPC', 'PLANT', 'BUILD_COUNTRY', 'LAST_KNOWN_DLR_NAME', 'LAST_KNOWN_DLR_CITY', 'REPAIRING_DEALER_CODE', 'DEALER_NAME', 'REPAIR_DLR_CITY', 'STATE', 'DEALER_REGION', 'REPAIR_DLR_POSTAL_CD', 'REPAIR_AGE', 'KM', 'COMPLAINT_CD_CSI', 'COMPLAINT_CD', 'VEH_TEST_GRP', 'COUNTRY_SALE_ISO', 'ORD_SELLING_SRC_CD', 'OPTN_FAMLY_CERTIFICATION', 'OPTF_FAMLY_EMISSIOF_SYSTEM', 'GLOBAL_LABOR_CODE', 'TRANSACTION_CATEGORY', 'CAMPAIGN_NBR', 'REPORTING_COST', 'TOTALCOST', 'LBRCOST', 'ENGINE', 'ENGINE_DESC', 'TRANSMISSION', 'TRANSMISSION_DESC', 'ENGINE_SOURCE_PLANT', 'ENGINE_TRACE_NBR', 'TRANSMISSION_SOURCE_PLANT', 'TRANSMISSION_TRACE_NBR', 'SRC_TXN_ID', 'SRC_VER_NBR', 'TRANSACTION_CNTR', 'MEDIA_FLAG', 'VIN_MODL_DESGTR', 'LINE_SERIES', 'LAST_KNOWN_DELVRY_TYPE_CD', 'NON_CAUSAL_PART_QTY', 'SALES_REGION_CODE']\n",
      "\n",
      "Sample repair descriptions:\n",
      "\n",
      "Example 1:\n",
      "Description: STEERING WHEEL COMING APART\n",
      "\n",
      "Example 2:\n",
      "Description: CUSTOMER STATES HEATED STEERING WHEEL INOP\n",
      "\n",
      "Example 3:\n",
      "Description: OWNER REPORTS: THE SUPER CRUISE BAR ON THE STEERING WHEEL IS COMING OF F. CHECK AND ADVISE. ADVISOR RUNNING PRA TOOL.\n"
     ]
    }
   ],
   "source": [
    "# Step 2: Load data\n",
    "df = pd.read_excel('DA -Task 2..xlsx')\n",
    "\n",
    "# Display info about the dataframe\n",
    "print(f\"Total records: {len(df)}\")\n",
    "print(f\"Columns in the dataframe: {df.columns.tolist()}\")\n",
    "\n",
    "# Look at a few examples\n",
    "print(\"\\nSample repair descriptions:\")\n",
    "for i in range(3):\n",
    "    if i < len(df):\n",
    "        print(f\"\\nExample {i+1}:\")\n",
    "        print(f\"Description: {df['CUSTOMER_VERBATIM'].iloc[i] if 'CUSTOMER_VERBATIM' in df.columns else 'Column not found'}\")\n",
    "        # Skip the TAGS part since that column doesn't exist"
   ]
  },
  {
   "cell_type": "markdown",
   "id": "1dcb3344",
   "metadata": {},
   "source": [
    "## Create a Simple Tag Generation Function\n",
    "\n",
    "Now we'll create a very simple function that uses NLTK to:\n",
    "1. Tokenize the text (split into words)\n",
    "2. Remove stopwords (common words like \"the\", \"and\", etc.)\n",
    "3. Find the most common words to use as tags"
   ]
  },
  {
   "cell_type": "code",
   "execution_count": 6,
   "id": "2349bb91",
   "metadata": {},
   "outputs": [
    {
     "name": "stdout",
     "output_type": "stream",
     "text": [
      "Example text: STEERING WHEEL COMING APART\n",
      "Generated tags: ['steering', 'wheel', 'coming', 'apart']\n"
     ]
    }
   ],
   "source": [
    "# Step 3: Define a simple tag generation function\n",
    "def generate_simple_tags(text):\n",
    "    if pd.isna(text):  # Handle NaN values\n",
    "        return []\n",
    "        \n",
    "    # Convert to lowercase\n",
    "    text = str(text).lower()\n",
    "    \n",
    "    # Tokenize the text\n",
    "    tokens = nltk.word_tokenize(text)\n",
    "    \n",
    "    # Remove stopwords\n",
    "    stopwords = nltk.corpus.stopwords.words('english')\n",
    "    tokens = [word for word in tokens if word.isalpha() and word not in stopwords]\n",
    "    \n",
    "    # Count word frequencies\n",
    "    word_counts = Counter(tokens)\n",
    "    \n",
    "    # Get the 5 most common words as tags\n",
    "    tags = [word for word, count in word_counts.most_common(5)]\n",
    "    \n",
    "    return tags\n",
    "\n",
    "# Test the function on an example\n",
    "if len(df) > 0 and 'CUSTOMER_VERBATIM' in df.columns:\n",
    "    example_text = df['CUSTOMER_VERBATIM'].iloc[0]\n",
    "    print(f\"Example text: {example_text}\")\n",
    "    print(f\"Generated tags: {generate_simple_tags(example_text)}\")\n",
    "else:\n",
    "    print(\"Cannot test function - dataframe is empty or missing required column\")"
   ]
  },
  {
   "cell_type": "markdown",
   "id": "0045855b",
   "metadata": {},
   "source": [
    "## Apply to the Dataset\n",
    "\n",
    "Let's apply our simple tag generation function to all the repair descriptions and add them as a new column in the dataframe."
   ]
  },
  {
   "cell_type": "code",
   "execution_count": 7,
   "id": "34e8fb7b",
   "metadata": {},
   "outputs": [
    {
     "name": "stdout",
     "output_type": "stream",
     "text": [
      "                                                                                                       CUSTOMER_VERBATIM  \\\n",
      "0                                                                                            STEERING WHEEL COMING APART   \n",
      "1                                                                             CUSTOMER STATES HEATED STEERING WHEEL INOP   \n",
      "2  OWNER REPORTS: THE SUPER CRUISE BAR ON THE STEERING WHEEL IS COMING OF F. CHECK AND ADVISE. ADVISOR RUNNING PRA TOOL.   \n",
      "3                               CUSTOMER STATES THE LETTERING AND FINISH ON THE STEERING WHEEL IS COMING OFF. Plant: SIL   \n",
      "4                                           C/S: CUSTOMER STATES THE SERVICE DRIVER ASSIST SYSTEM MESSAGE IS ON. A DVISE   \n",
      "\n",
      "                                    new_tags_str  \n",
      "0                 steering, wheel, coming, apart  \n",
      "1      customer, states, heated, steering, wheel  \n",
      "2             owner, reports, super, cruise, bar  \n",
      "3  customer, states, lettering, finish, steering  \n",
      "4      customer, states, service, driver, assist  \n"
     ]
    }
   ],
   "source": [
    "# Step 4: Apply tag generation to all rows\n",
    "if 'CUSTOMER_VERBATIM' in df.columns:\n",
    "    df['new_tags'] = df['CUSTOMER_VERBATIM'].apply(generate_simple_tags)\n",
    "\n",
    "    # Convert the list of tags to a comma-separated string\n",
    "    df['new_tags_str'] = df['new_tags'].apply(lambda x: ', '.join(x))\n",
    "\n",
    "    # Display the first 5 rows with descriptions and new tags\n",
    "    pd.set_option('display.max_colwidth', None)\n",
    "    sample_display = df[['CUSTOMER_VERBATIM', 'new_tags_str']].head(5)\n",
    "    print(sample_display)\n",
    "else:\n",
    "    print(\"Cannot generate tags - CUSTOMER_VERBATIM column not found\")"
   ]
  },
  {
   "cell_type": "markdown",
   "id": "29729b66",
   "metadata": {},
   "source": [
    "## Compare with Original Tags\n",
    "\n",
    "Let's compare our new tags with the original tags to see how our simple NLTK approach compares."
   ]
  },
  {
   "cell_type": "code",
   "execution_count": 8,
   "id": "031e613f",
   "metadata": {},
   "outputs": [
    {
     "name": "stdout",
     "output_type": "stream",
     "text": [
      "Tag generation statistics:\n",
      "Average number of tags per description: 4.87\n",
      "Max number of tags for a description: 5\n",
      "Min number of tags for a description: 0\n",
      "\n",
      "Most common tags across all descriptions:\n",
      "- steering: 75 occurrences\n",
      "- wheel: 65 occurrences\n",
      "- customer: 54 occurrences\n",
      "- states: 51 occurrences\n",
      "- heated: 17 occurrences\n",
      "- cust: 9 occurrences\n",
      "- stitching: 7 occurrences\n",
      "- leather: 6 occurrences\n",
      "- sop: 6 occurrences\n",
      "- coming: 5 occurrences\n"
     ]
    }
   ],
   "source": [
    "# Step 5: Analyze the generated tags\n",
    "if 'new_tags' in df.columns:\n",
    "    # Count how many tags were generated for each row\n",
    "    tag_counts = df['new_tags'].apply(len)\n",
    "    \n",
    "    print(\"Tag generation statistics:\")\n",
    "    print(f\"Average number of tags per description: {tag_counts.mean():.2f}\")\n",
    "    print(f\"Max number of tags for a description: {tag_counts.max()}\")\n",
    "    print(f\"Min number of tags for a description: {tag_counts.min()}\")\n",
    "    \n",
    "    # Find most common tags across all descriptions\n",
    "    all_tags = [tag for tags_list in df['new_tags'] for tag in tags_list]\n",
    "    most_common_tags = Counter(all_tags).most_common(10)\n",
    "    \n",
    "    print(\"\\nMost common tags across all descriptions:\")\n",
    "    for tag, count in most_common_tags:\n",
    "        print(f\"- {tag}: {count} occurrences\")\n",
    "else:\n",
    "    print(\"No tags have been generated yet\")"
   ]
  },
  {
   "cell_type": "markdown",
   "id": "e82bf204",
   "metadata": {},
   "source": [
    "## Improve the Tag Generation\n",
    "\n",
    "Let's improve our tag generation by adding lemmatization (reducing words to their base form) and adding bigrams (two-word phrases) for multi-word concepts like \"steering wheel\"."
   ]
  },
  {
   "cell_type": "code",
   "execution_count": 9,
   "id": "73e41a23",
   "metadata": {},
   "outputs": [
    {
     "name": "stdout",
     "output_type": "stream",
     "text": [
      "Example text: STEERING WHEEL COMING APART\n",
      "Improved tags: ['steering', 'wheel', 'coming', 'apart', 'steering wheel']\n",
      "Improved tags: ['steering', 'wheel', 'coming', 'apart', 'steering wheel']\n"
     ]
    }
   ],
   "source": [
    "# Step 6: Improved tag generation function\n",
    "def generate_improved_tags(text):\n",
    "    if pd.isna(text):  # Handle NaN values\n",
    "        return []\n",
    "        \n",
    "    # Convert to lowercase\n",
    "    text = str(text).lower()\n",
    "    \n",
    "    # Tokenize the text\n",
    "    tokens = nltk.word_tokenize(text)\n",
    "    \n",
    "    # Remove stopwords and non-alphabetic tokens\n",
    "    stopwords = nltk.corpus.stopwords.words('english')\n",
    "    tokens = [word for word in tokens if word.isalpha() and word not in stopwords]\n",
    "    \n",
    "    # Lemmatize words (convert to base form)\n",
    "    lemmatizer = nltk.stem.WordNetLemmatizer()\n",
    "    lemmatized_tokens = [lemmatizer.lemmatize(word) for word in tokens]\n",
    "    \n",
    "    # Find bigrams (two-word phrases)\n",
    "    bigrams = list(nltk.bigrams(tokens))\n",
    "    bigram_phrases = [f\"{w1}_{w2}\" for w1, w2 in bigrams \n",
    "                     if w1 not in stopwords and w2 not in stopwords]\n",
    "    \n",
    "    # Combine single words and bigrams\n",
    "    all_tokens = lemmatized_tokens + bigram_phrases\n",
    "    \n",
    "    # Count frequencies\n",
    "    token_counts = Counter(all_tokens)\n",
    "    \n",
    "    # Get top 5 tokens as tags\n",
    "    tags = [token.replace('_', ' ') if '_' in token else token \n",
    "            for token, count in token_counts.most_common(5)]\n",
    "    \n",
    "    return tags\n",
    "\n",
    "# Test the improved function\n",
    "if len(df) > 0 and 'CUSTOMER_VERBATIM' in df.columns:\n",
    "    example_text = df['CUSTOMER_VERBATIM'].iloc[0]\n",
    "    print(f\"Example text: {example_text}\")\n",
    "    print(f\"Improved tags: {generate_improved_tags(example_text)}\")\n",
    "else:\n",
    "    print(\"Cannot test function - dataframe is empty or missing required column\")"
   ]
  },
  {
   "cell_type": "markdown",
   "id": "6cdfe713",
   "metadata": {},
   "source": [
    "## Apply Improved Tag Generation to Dataset"
   ]
  },
  {
   "cell_type": "code",
   "execution_count": 10,
   "id": "7903eb69",
   "metadata": {},
   "outputs": [
    {
     "name": "stdout",
     "output_type": "stream",
     "text": [
      "                                                                                                       CUSTOMER_VERBATIM  \\\n",
      "0                                                                                            STEERING WHEEL COMING APART   \n",
      "1                                                                             CUSTOMER STATES HEATED STEERING WHEEL INOP   \n",
      "2  OWNER REPORTS: THE SUPER CRUISE BAR ON THE STEERING WHEEL IS COMING OF F. CHECK AND ADVISE. ADVISOR RUNNING PRA TOOL.   \n",
      "3                               CUSTOMER STATES THE LETTERING AND FINISH ON THE STEERING WHEEL IS COMING OFF. Plant: SIL   \n",
      "4                                           C/S: CUSTOMER STATES THE SERVICE DRIVER ASSIST SYSTEM MESSAGE IS ON. A DVISE   \n",
      "\n",
      "                                    new_tags_str  \\\n",
      "0                 steering, wheel, coming, apart   \n",
      "1      customer, states, heated, steering, wheel   \n",
      "2             owner, reports, super, cruise, bar   \n",
      "3  customer, states, lettering, finish, steering   \n",
      "4      customer, states, service, driver, assist   \n",
      "\n",
      "                                improved_tags_str  \n",
      "0  steering, wheel, coming, apart, steering wheel  \n",
      "1        customer, state, heated, steering, wheel  \n",
      "2               owner, report, super, cruise, bar  \n",
      "3    customer, state, lettering, finish, steering  \n",
      "4        customer, state, service, driver, assist  \n"
     ]
    }
   ],
   "source": [
    "# Step 7: Apply improved tag generation to all rows\n",
    "if 'CUSTOMER_VERBATIM' in df.columns:\n",
    "    df['improved_tags'] = df['CUSTOMER_VERBATIM'].apply(generate_improved_tags)\n",
    "    df['improved_tags_str'] = df['improved_tags'].apply(lambda x: ', '.join(x))\n",
    "\n",
    "    # Display the first 5 rows with descriptions and both tag versions\n",
    "    pd.set_option('display.max_colwidth', None)\n",
    "    sample_display = df[['CUSTOMER_VERBATIM', 'new_tags_str', 'improved_tags_str']].head(5)\n",
    "    print(sample_display)\n",
    "else:\n",
    "    print(\"Cannot generate improved tags - CUSTOMER_VERBATIM column not found\")"
   ]
  },
  {
   "cell_type": "markdown",
   "id": "fe484a25",
   "metadata": {},
   "source": [
    "## Visualize the Results\n",
    "\n",
    "Let's create a simple visualization to see how our improved tags compare to the original tags."
   ]
  },
  {
   "cell_type": "code",
   "execution_count": 11,
   "id": "cc861552",
   "metadata": {},
   "outputs": [
    {
     "data": {
      "image/png": "[encoded data removed]",
      "text/plain": [
       "<Figure size 1000x600 with 1 Axes>"
      ]
     },
     "metadata": {},
     "output_type": "display_data"
    },
    {
     "data": {
      "image/png": "[encoded data removed]",
      "text/plain": [
       "<Figure size 1000x600 with 1 Axes>"
      ]
     },
     "metadata": {},
     "output_type": "display_data"
    },
    {
     "name": "stdout",
     "output_type": "stream",
     "text": [
      "The improved method generates 101.6% more unique tags than the simple method.\n"
     ]
    }
   ],
   "source": [
    "# Step 8: Visualize tag differences\n",
    "import matplotlib.pyplot as plt\n",
    "\n",
    "if 'new_tags' in df.columns and 'improved_tags' in df.columns:\n",
    "    # Compare tag overlap between simple and improved methods\n",
    "    def compare_tag_methods(row):\n",
    "        simple_tags = set(row['new_tags'])\n",
    "        improved_tags = set(row['improved_tags'])\n",
    "        \n",
    "        # Calculate overlap\n",
    "        overlap = simple_tags.intersection(improved_tags)\n",
    "        overlap_count = len(overlap)\n",
    "        \n",
    "        # Calculate unique tags in each method\n",
    "        simple_unique = len(simple_tags) - overlap_count\n",
    "        improved_unique = len(improved_tags) - overlap_count\n",
    "        \n",
    "        return {\n",
    "            'overlap_count': overlap_count,\n",
    "            'simple_unique': simple_unique,\n",
    "            'improved_unique': improved_unique\n",
    "        }\n",
    "\n",
    "    # Apply comparison to each row\n",
    "    comparison = df.apply(compare_tag_methods, axis=1)\n",
    "    comparison_df = pd.DataFrame(comparison.tolist())\n",
    "\n",
    "    # Calculate averages\n",
    "    avg_overlap = comparison_df['overlap_count'].mean()\n",
    "    avg_simple_unique = comparison_df['simple_unique'].mean()\n",
    "    avg_improved_unique = comparison_df['improved_unique'].mean()\n",
    "\n",
    "    # Create bar chart\n",
    "    plt.figure(figsize=(10, 6))\n",
    "    plt.bar(['Common Tags', 'Unique to Simple Method', 'Unique to Improved Method'], \n",
    "            [avg_overlap, avg_simple_unique, avg_improved_unique],\n",
    "            color=['green', 'blue', 'orange'])\n",
    "    plt.title('Comparison of Simple vs. Improved Tag Generation')\n",
    "    plt.ylabel('Average Number of Tags')\n",
    "\n",
    "    for i, v in enumerate([avg_overlap, avg_simple_unique, avg_improved_unique]):\n",
    "        plt.text(i, v + 0.1, f'{v:.2f}', ha='center')\n",
    "\n",
    "    plt.show()\n",
    "\n",
    "    # Create a pie chart of the most common tags from improved method\n",
    "    all_improved_tags = [tag for tags_list in df['improved_tags'] for tag in tags_list]\n",
    "    most_common_improved = Counter(all_improved_tags).most_common(8)\n",
    "    \n",
    "    labels = [tag for tag, _ in most_common_improved]\n",
    "    sizes = [count for _, count in most_common_improved]\n",
    "    \n",
    "    plt.figure(figsize=(10, 6))\n",
    "    plt.pie(sizes, labels=labels, autopct='%1.1f%%', startangle=90)\n",
    "    plt.axis('equal')\n",
    "    plt.title('Most Common Tags from Improved Method')\n",
    "    plt.show()\n",
    "    \n",
    "    print(f\"The improved method generates {len(all_improved_tags)/sum(df['new_tags'].apply(len))*100:.1f}% more unique tags than the simple method.\")\n",
    "else:\n",
    "    print(\"Cannot visualize results - tags have not been generated yet\")"
   ]
  },
  {
   "cell_type": "markdown",
   "id": "0642511d",
   "metadata": {},
   "source": [
    "## Save the Results\n",
    "\n",
    "Finally, let's save our dataframe with the new tags to a CSV file."
   ]
  },
  {
   "cell_type": "code",
   "execution_count": 12,
   "id": "7f92c5e2",
   "metadata": {},
   "outputs": [
    {
     "name": "stdout",
     "output_type": "stream",
     "text": [
      "Saved results to 'vehicle_repair_data_with_nltk_tags.csv'\n"
     ]
    }
   ],
   "source": [
    "# Step 9: Save the results\n",
    "if 'CUSTOMER_VERBATIM' in df.columns and 'improved_tags_str' in df.columns:\n",
    "    # Create a new DataFrame with just the columns we want to save\n",
    "    output_df = df.copy()\n",
    "    \n",
    "    # Make sure we have all necessary columns\n",
    "    if 'new_tags' in output_df.columns:\n",
    "        # Convert the tag lists to strings for CSV export\n",
    "        output_df['nltk_tags'] = output_df['improved_tags_str']\n",
    "        \n",
    "    # Save to CSV\n",
    "    output_df.to_csv('vehicle_repair_data_with_nltk_tags.csv', index=False)\n",
    "    print(\"Saved results to 'vehicle_repair_data_with_nltk_tags.csv'\")\n",
    "else:\n",
    "    print(\"Cannot save results - required columns are missing\")"
   ]
  },
  {
   "cell_type": "markdown",
   "id": "53b7836c",
   "metadata": {},
   "source": [
    "## Why NLTK is Better than Regular Expressions for Tag Generation\n",
    "\n",
    "1. **Word Understanding**: NLTK understands words, not just character patterns\n",
    "2. **Stopword Removal**: Built-in lists of common words to ignore\n",
    "3. **Lemmatization**: Reduces words to their base form (e.g., \"brakes\" → \"brake\")\n",
    "4. **Multi-word Concepts**: Can identify phrases like \"steering wheel\" as a single concept\n",
    "5. **Part-of-Speech Tagging**: Can identify if words are nouns, verbs, etc.\n",
    "\n",
    "### Simple Example to Explain in an Interview\n",
    "\n",
    "Let's say we have this repair description:\n",
    "> \"Customer complained about steering wheel vibration when braking. Replaced front rotors and performed wheel alignment.\"\n",
    "\n",
    "**Regex approach** might just count word frequency and give tags like:\n",
    "- steering\n",
    "- wheel\n",
    "- vibration \n",
    "- replaced\n",
    "- front\n",
    "\n",
    "**NLTK approach** understands language better:\n",
    "- \"steering wheel\" (as one concept)\n",
    "- \"vibration\" \n",
    "- \"brake\" (not \"braking\")\n",
    "- \"rotor\" (identified as important part)\n",
    "- \"alignment\" (identified as key repair action)\n",
    "\n",
    "The NLTK approach gives more meaningful tags that better represent what the repair was actually about!\n",
    "\n",
    "This simple approach demonstrates just the basics of what NLTK can do for tag generation."
   ]
  }
 ],
 "metadata": {
  "kernelspec": {
   "display_name": "Python 3",
   "language": "python",
   "name": "python3"
  },
  "language_info": {
   "codemirror_mode": {
    "name": "ipython",
    "version": 3
   },
   "file_extension": ".py",
   "mimetype": "text/x-python",
   "name": "python",
   "nbconvert_exporter": "python",
   "pygments_lexer": "ipython3",
   "version": "3.12.10"
  }
 },
 "nbformat": 4,
 "nbformat_minor": 5
}
