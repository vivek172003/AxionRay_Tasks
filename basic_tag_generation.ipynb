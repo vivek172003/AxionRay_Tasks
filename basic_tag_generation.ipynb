{
 "cells": [
  {
   "cell_type": "markdown",
   "id": "fedae30f",
   "metadata": {},
   "source": [
    "# Basic Tag Generation using NLTK\n",
    "\n",
    "This notebook demonstrates a simple approach to generate tags from vehicle repair descriptions using the Natural Language Toolkit (NLTK)."
   ]
  },
  {
   "cell_type": "code",
   "execution_count": 9,
   "id": "5291ae25",
   "metadata": {},
   "outputs": [
    {
     "name": "stderr",
     "output_type": "stream",
     "text": [
      "[nltk_data] Downloading package punkt to\n",
      "[nltk_data]     C:\\Users\\prabhakula.v\\AppData\\Roaming\\nltk_data...\n",
      "[nltk_data]   Package punkt is already up-to-date!\n",
      "[nltk_data] Downloading package stopwords to\n",
      "[nltk_data]     C:\\Users\\prabhakula.v\\AppData\\Roaming\\nltk_data...\n",
      "[nltk_data]   Package stopwords is already up-to-date!\n"
     ]
    },
    {
     "data": {
      "text/plain": [
       "True"
      ]
     },
     "execution_count": 9,
     "metadata": {},
     "output_type": "execute_result"
    }
   ],
   "source": [
    "# Step 1: Import libraries\n",
    "import pandas as pd\n",
    "import nltk\n",
    "import re\n",
    "from collections import Counter\n",
    "\n",
    "# Download necessary NLTK resources\n",
    "nltk.download('punkt')\n",
    "nltk.download('stopwords')"
   ]
  },
  {
   "cell_type": "markdown",
   "id": "928a2164",
   "metadata": {},
   "source": [
    "## Load and View the Data\n",
    "\n",
    "Let's first load our data and take a look at a few examples."
   ]
  },
  {
   "cell_type": "code",
   "execution_count": 10,
   "id": "74d31144",
   "metadata": {},
   "outputs": [
    {
     "ename": "FileNotFoundError",
     "evalue": "[Errno 2] No such file or directory: 'DA -Task 2..xlsx'",
     "output_type": "error",
     "traceback": [
      "\u001b[31m---------------------------------------------------------------------------\u001b[39m",
      "\u001b[31mFileNotFoundError\u001b[39m                         Traceback (most recent call last)",
      "\u001b[36mCell\u001b[39m\u001b[36m \u001b[39m\u001b[32mIn[10]\u001b[39m\u001b[32m, line 2\u001b[39m\n\u001b[32m      1\u001b[39m \u001b[38;5;66;03m# Step 2: Load data\u001b[39;00m\n\u001b[32m----> \u001b[39m\u001b[32m2\u001b[39m df = \u001b[43mpd\u001b[49m\u001b[43m.\u001b[49m\u001b[43mread_excel\u001b[49m\u001b[43m(\u001b[49m\u001b[33;43m'\u001b[39;49m\u001b[33;43mDA -Task 2..xlsx\u001b[39;49m\u001b[33;43m'\u001b[39;49m\u001b[43m)\u001b[49m\n\u001b[32m      4\u001b[39m \u001b[38;5;66;03m# Display info about the dataframe\u001b[39;00m\n\u001b[32m      5\u001b[39m \u001b[38;5;28mprint\u001b[39m(\u001b[33mf\u001b[39m\u001b[33m\"\u001b[39m\u001b[33mTotal records: \u001b[39m\u001b[38;5;132;01m{\u001b[39;00m\u001b[38;5;28mlen\u001b[39m(df)\u001b[38;5;132;01m}\u001b[39;00m\u001b[33m\"\u001b[39m)\n",
      "\u001b[36mFile \u001b[39m\u001b[32m~\\AppData\\Roaming\\Python\\Python312\\site-packages\\pandas\\io\\excel\\_base.py:495\u001b[39m, in \u001b[36mread_excel\u001b[39m\u001b[34m(io, sheet_name, header, names, index_col, usecols, dtype, engine, converters, true_values, false_values, skiprows, nrows, na_values, keep_default_na, na_filter, verbose, parse_dates, date_parser, date_format, thousands, decimal, comment, skipfooter, storage_options, dtype_backend, engine_kwargs)\u001b[39m\n\u001b[32m    493\u001b[39m \u001b[38;5;28;01mif\u001b[39;00m \u001b[38;5;129;01mnot\u001b[39;00m \u001b[38;5;28misinstance\u001b[39m(io, ExcelFile):\n\u001b[32m    494\u001b[39m     should_close = \u001b[38;5;28;01mTrue\u001b[39;00m\n\u001b[32m--> \u001b[39m\u001b[32m495\u001b[39m     io = \u001b[43mExcelFile\u001b[49m\u001b[43m(\u001b[49m\n\u001b[32m    496\u001b[39m \u001b[43m        \u001b[49m\u001b[43mio\u001b[49m\u001b[43m,\u001b[49m\n\u001b[32m    497\u001b[39m \u001b[43m        \u001b[49m\u001b[43mstorage_options\u001b[49m\u001b[43m=\u001b[49m\u001b[43mstorage_options\u001b[49m\u001b[43m,\u001b[49m\n\u001b[32m    498\u001b[39m \u001b[43m        \u001b[49m\u001b[43mengine\u001b[49m\u001b[43m=\u001b[49m\u001b[43mengine\u001b[49m\u001b[43m,\u001b[49m\n\u001b[32m    499\u001b[39m \u001b[43m        \u001b[49m\u001b[43mengine_kwargs\u001b[49m\u001b[43m=\u001b[49m\u001b[43mengine_kwargs\u001b[49m\u001b[43m,\u001b[49m\n\u001b[32m    500\u001b[39m \u001b[43m    \u001b[49m\u001b[43m)\u001b[49m\n\u001b[32m    501\u001b[39m \u001b[38;5;28;01melif\u001b[39;00m engine \u001b[38;5;129;01mand\u001b[39;00m engine != io.engine:\n\u001b[32m    502\u001b[39m     \u001b[38;5;28;01mraise\u001b[39;00m \u001b[38;5;167;01mValueError\u001b[39;00m(\n\u001b[32m    503\u001b[39m         \u001b[33m\"\u001b[39m\u001b[33mEngine should not be specified when passing \u001b[39m\u001b[33m\"\u001b[39m\n\u001b[32m    504\u001b[39m         \u001b[33m\"\u001b[39m\u001b[33man ExcelFile - ExcelFile already has the engine set\u001b[39m\u001b[33m\"\u001b[39m\n\u001b[32m    505\u001b[39m     )\n",
      "\u001b[36mFile \u001b[39m\u001b[32m~\\AppData\\Roaming\\Python\\Python312\\site-packages\\pandas\\io\\excel\\_base.py:1550\u001b[39m, in \u001b[36mExcelFile.__init__\u001b[39m\u001b[34m(self, path_or_buffer, engine, storage_options, engine_kwargs)\u001b[39m\n\u001b[32m   1548\u001b[39m     ext = \u001b[33m\"\u001b[39m\u001b[33mxls\u001b[39m\u001b[33m\"\u001b[39m\n\u001b[32m   1549\u001b[39m \u001b[38;5;28;01melse\u001b[39;00m:\n\u001b[32m-> \u001b[39m\u001b[32m1550\u001b[39m     ext = \u001b[43minspect_excel_format\u001b[49m\u001b[43m(\u001b[49m\n\u001b[32m   1551\u001b[39m \u001b[43m        \u001b[49m\u001b[43mcontent_or_path\u001b[49m\u001b[43m=\u001b[49m\u001b[43mpath_or_buffer\u001b[49m\u001b[43m,\u001b[49m\u001b[43m \u001b[49m\u001b[43mstorage_options\u001b[49m\u001b[43m=\u001b[49m\u001b[43mstorage_options\u001b[49m\n\u001b[32m   1552\u001b[39m \u001b[43m    \u001b[49m\u001b[43m)\u001b[49m\n\u001b[32m   1553\u001b[39m     \u001b[38;5;28;01mif\u001b[39;00m ext \u001b[38;5;129;01mis\u001b[39;00m \u001b[38;5;28;01mNone\u001b[39;00m:\n\u001b[32m   1554\u001b[39m         \u001b[38;5;28;01mraise\u001b[39;00m \u001b[38;5;167;01mValueError\u001b[39;00m(\n\u001b[32m   1555\u001b[39m             \u001b[33m\"\u001b[39m\u001b[33mExcel file format cannot be determined, you must specify \u001b[39m\u001b[33m\"\u001b[39m\n\u001b[32m   1556\u001b[39m             \u001b[33m\"\u001b[39m\u001b[33man engine manually.\u001b[39m\u001b[33m\"\u001b[39m\n\u001b[32m   1557\u001b[39m         )\n",
      "\u001b[36mFile \u001b[39m\u001b[32m~\\AppData\\Roaming\\Python\\Python312\\site-packages\\pandas\\io\\excel\\_base.py:1402\u001b[39m, in \u001b[36minspect_excel_format\u001b[39m\u001b[34m(content_or_path, storage_options)\u001b[39m\n\u001b[32m   1399\u001b[39m \u001b[38;5;28;01mif\u001b[39;00m \u001b[38;5;28misinstance\u001b[39m(content_or_path, \u001b[38;5;28mbytes\u001b[39m):\n\u001b[32m   1400\u001b[39m     content_or_path = BytesIO(content_or_path)\n\u001b[32m-> \u001b[39m\u001b[32m1402\u001b[39m \u001b[38;5;28;01mwith\u001b[39;00m \u001b[43mget_handle\u001b[49m\u001b[43m(\u001b[49m\n\u001b[32m   1403\u001b[39m \u001b[43m    \u001b[49m\u001b[43mcontent_or_path\u001b[49m\u001b[43m,\u001b[49m\u001b[43m \u001b[49m\u001b[33;43m\"\u001b[39;49m\u001b[33;43mrb\u001b[39;49m\u001b[33;43m\"\u001b[39;49m\u001b[43m,\u001b[49m\u001b[43m \u001b[49m\u001b[43mstorage_options\u001b[49m\u001b[43m=\u001b[49m\u001b[43mstorage_options\u001b[49m\u001b[43m,\u001b[49m\u001b[43m \u001b[49m\u001b[43mis_text\u001b[49m\u001b[43m=\u001b[49m\u001b[38;5;28;43;01mFalse\u001b[39;49;00m\n\u001b[32m   1404\u001b[39m \u001b[43m\u001b[49m\u001b[43m)\u001b[49m \u001b[38;5;28;01mas\u001b[39;00m handle:\n\u001b[32m   1405\u001b[39m     stream = handle.handle\n\u001b[32m   1406\u001b[39m     stream.seek(\u001b[32m0\u001b[39m)\n",
      "\u001b[36mFile \u001b[39m\u001b[32m~\\AppData\\Roaming\\Python\\Python312\\site-packages\\pandas\\io\\common.py:882\u001b[39m, in \u001b[36mget_handle\u001b[39m\u001b[34m(path_or_buf, mode, encoding, compression, memory_map, is_text, errors, storage_options)\u001b[39m\n\u001b[32m    873\u001b[39m         handle = \u001b[38;5;28mopen\u001b[39m(\n\u001b[32m    874\u001b[39m             handle,\n\u001b[32m    875\u001b[39m             ioargs.mode,\n\u001b[32m   (...)\u001b[39m\u001b[32m    878\u001b[39m             newline=\u001b[33m\"\u001b[39m\u001b[33m\"\u001b[39m,\n\u001b[32m    879\u001b[39m         )\n\u001b[32m    880\u001b[39m     \u001b[38;5;28;01melse\u001b[39;00m:\n\u001b[32m    881\u001b[39m         \u001b[38;5;66;03m# Binary mode\u001b[39;00m\n\u001b[32m--> \u001b[39m\u001b[32m882\u001b[39m         handle = \u001b[38;5;28;43mopen\u001b[39;49m\u001b[43m(\u001b[49m\u001b[43mhandle\u001b[49m\u001b[43m,\u001b[49m\u001b[43m \u001b[49m\u001b[43mioargs\u001b[49m\u001b[43m.\u001b[49m\u001b[43mmode\u001b[49m\u001b[43m)\u001b[49m\n\u001b[32m    883\u001b[39m     handles.append(handle)\n\u001b[32m    885\u001b[39m \u001b[38;5;66;03m# Convert BytesIO or file objects passed with an encoding\u001b[39;00m\n",
      "\u001b[31mFileNotFoundError\u001b[39m: [Errno 2] No such file or directory: 'DA -Task 2..xlsx'"
     ]
    }
   ],
   "source": [
    "# Step 2: Load data\n",
    "df = pd.read_excel('DA -Task 2..xlsx')\n",
    "\n",
    "# Display info about the dataframe\n",
    "print(f\"Total records: {len(df)}\")\n",
    "print(f\"Columns in the dataframe: {df.columns.tolist()}\")\n",
    "\n",
    "# Look at a few examples\n",
    "print(\"\\nSample repair descriptions:\")\n",
    "for i in range(3):\n",
    "    if i < len(df):\n",
    "        print(f\"\\nExample {i+1}:\")\n",
    "        print(f\"Description: {df['CUSTOMER_VERBATIM'].iloc[i] if 'CUSTOMER_VERBATIM' in df.columns else 'Column not found'}\")"
   ]
  },
  {
   "cell_type": "markdown",
   "id": "33406a87",
   "metadata": {},
   "source": [
    "## Create a Simple Tag Generation Function\n",
    "\n",
    "Now we'll create a very simple function that uses NLTK to:\n",
    "1. Tokenize the text (split into words)\n",
    "2. Remove stopwords (common words like \"the\", \"and\", etc.)\n",
    "3. Find the most common words to use as tags"
   ]
  },
  {
   "cell_type": "code",
   "execution_count": null,
   "id": "1a381855",
   "metadata": {},
   "outputs": [
    {
     "name": "stdout",
     "output_type": "stream",
     "text": [
      "Example text: STEERING WHEEL COMING APART\n",
      "Generated tags: ['steering', 'wheel', 'coming', 'apart']\n"
     ]
    }
   ],
   "source": [
    "# Step 3: Define a simple tag generation function\n",
    "def generate_tags(text):\n",
    "    if pd.isna(text):  # Handle NaN values\n",
    "        return []\n",
    "        \n",
    "    # Convert to lowercase\n",
    "    text = str(text).lower()\n",
    "    \n",
    "    # Tokenize the text (split into words)\n",
    "    tokens = nltk.word_tokenize(text)\n",
    "    \n",
    "    # Remove stopwords (common words like \"the\", \"and\", etc.)\n",
    "    stopwords = nltk.corpus.stopwords.words('english')\n",
    "    tokens = [word for word in tokens if word.isalpha() and word not in stopwords]\n",
    "    \n",
    "    # Count word frequencies\n",
    "    word_counts = Counter(tokens)\n",
    "    \n",
    "    # Get the 5 most common words as tags\n",
    "    tags = [word for word, count in word_counts.most_common(5)]\n",
    "    \n",
    "    return tags\n",
    "\n",
    "# Test the function on an example\n",
    "if len(df) > 0 and 'CUSTOMER_VERBATIM' in df.columns:\n",
    "    example_text = df['CUSTOMER_VERBATIM'].iloc[0]\n",
    "    print(f\"Example text: {example_text}\")\n",
    "    print(f\"Generated tags: {generate_tags(example_text)}\")\n",
    "else:\n",
    "    print(\"Cannot test function - dataframe is empty or missing required column\")"
   ]
  },
  {
   "cell_type": "markdown",
   "id": "242af6c9",
   "metadata": {},
   "source": [
    "## Apply to the Dataset\n",
    "\n",
    "Let's apply our tag generation function to all the repair descriptions and add them as a new column in the dataframe."
   ]
  },
  {
   "cell_type": "code",
   "execution_count": null,
   "id": "1db88c2b",
   "metadata": {},
   "outputs": [
    {
     "name": "stdout",
     "output_type": "stream",
     "text": [
      "                                                                                                       CUSTOMER_VERBATIM  \\\n",
      "0                                                                                            STEERING WHEEL COMING APART   \n",
      "1                                                                             CUSTOMER STATES HEATED STEERING WHEEL INOP   \n",
      "2  OWNER REPORTS: THE SUPER CRUISE BAR ON THE STEERING WHEEL IS COMING OF F. CHECK AND ADVISE. ADVISOR RUNNING PRA TOOL.   \n",
      "3                               CUSTOMER STATES THE LETTERING AND FINISH ON THE STEERING WHEEL IS COMING OFF. Plant: SIL   \n",
      "4                                           C/S: CUSTOMER STATES THE SERVICE DRIVER ASSIST SYSTEM MESSAGE IS ON. A DVISE   \n",
      "\n",
      "                                     tags_string  \n",
      "0                 steering, wheel, coming, apart  \n",
      "1      customer, states, heated, steering, wheel  \n",
      "2             owner, reports, super, cruise, bar  \n",
      "3  customer, states, lettering, finish, steering  \n",
      "4      customer, states, service, driver, assist  \n"
     ]
    }
   ],
   "source": [
    "# Step 4: Apply tag generation to all rows\n",
    "if 'CUSTOMER_VERBATIM' in df.columns:\n",
    "    # Generate tags for each description\n",
    "    df['nltk_tags'] = df['CUSTOMER_VERBATIM'].apply(generate_tags)\n",
    "\n",
    "    # Convert the list of tags to a comma-separated string for better viewing\n",
    "    df['tags_string'] = df['nltk_tags'].apply(lambda x: ', '.join(x))\n",
    "\n",
    "    # Display the first 5 rows with descriptions and new tags\n",
    "    pd.set_option('display.max_colwidth', None)\n",
    "    sample_display = df[['CUSTOMER_VERBATIM', 'tags_string']].head(5)\n",
    "    print(sample_display)\n",
    "else:\n",
    "    print(\"Cannot generate tags - CUSTOMER_VERBATIM column not found\")"
   ]
  },
  {
   "cell_type": "markdown",
   "id": "ad9cbefa",
   "metadata": {},
   "source": [
    "## Analyze the Generated Tags\n",
    "\n",
    "Let's look at the most common tags across all repair descriptions."
   ]
  },
  {
   "cell_type": "code",
   "execution_count": null,
   "id": "4353142c",
   "metadata": {},
   "outputs": [
    {
     "name": "stdout",
     "output_type": "stream",
     "text": [
      "Most common tags across all descriptions:\n",
      "- steering: 75 occurrences\n",
      "- wheel: 65 occurrences\n",
      "- customer: 54 occurrences\n",
      "- states: 51 occurrences\n",
      "- heated: 17 occurrences\n",
      "- cust: 9 occurrences\n",
      "- stitching: 7 occurrences\n",
      "- leather: 6 occurrences\n",
      "- sop: 6 occurrences\n",
      "- coming: 5 occurrences\n",
      "\n",
      "Tag generation statistics:\n",
      "Average number of tags per description: 4.87\n",
      "Total unique tags generated: 152\n"
     ]
    }
   ],
   "source": [
    "# Step 5: Analyze the generated tags\n",
    "if 'nltk_tags' in df.columns:\n",
    "    # Find most common tags across all descriptions\n",
    "    all_tags = [tag for tags_list in df['nltk_tags'] for tag in tags_list]\n",
    "    most_common_tags = Counter(all_tags).most_common(10)\n",
    "    \n",
    "    print(\"Most common tags across all descriptions:\")\n",
    "    for tag, count in most_common_tags:\n",
    "        print(f\"- {tag}: {count} occurrences\")\n",
    "    \n",
    "    # Display tag count statistics\n",
    "    tag_counts = df['nltk_tags'].apply(len)\n",
    "    print(\"\\nTag generation statistics:\")\n",
    "    print(f\"Average number of tags per description: {tag_counts.mean():.2f}\")\n",
    "    print(f\"Total unique tags generated: {len(set(all_tags))}\")\n",
    "else:\n",
    "    print(\"No tags have been generated yet\")"
   ]
  },
  {
   "cell_type": "markdown",
   "id": "70838935",
   "metadata": {},
   "source": [
    "## Visualize the Top Tags\n",
    "\n",
    "Let's create a simple bar chart to visualize the most common tags."
   ]
  },
  {
   "cell_type": "code",
   "execution_count": null,
   "id": "524bb152",
   "metadata": {},
   "outputs": [
    {
     "data": {
      "image/png": "[encoded data removed]",
      "text/plain": [
       "<Figure size 1000x600 with 1 Axes>"
      ]
     },
     "metadata": {},
     "output_type": "display_data"
    }
   ],
   "source": [
    "# Step 6: Visualize top tags\n",
    "import matplotlib.pyplot as plt\n",
    "\n",
    "if 'nltk_tags' in df.columns:\n",
    "    # Get the top 10 most common tags\n",
    "    all_tags = [tag for tags_list in df['nltk_tags'] for tag in tags_list]\n",
    "    most_common_tags = Counter(all_tags).most_common(10)\n",
    "    \n",
    "    # Create lists for plotting\n",
    "    tags = [tag for tag, _ in most_common_tags]\n",
    "    counts = [count for _, count in most_common_tags]\n",
    "    \n",
    "    # Create bar chart\n",
    "    plt.figure(figsize=(10, 6))\n",
    "    plt.bar(tags, counts)\n",
    "    plt.title('Top 10 Most Common Tags')\n",
    "    plt.xlabel('Tags')\n",
    "    plt.ylabel('Number of Occurrences')\n",
    "    plt.xticks(rotation=45, ha='right')\n",
    "    plt.tight_layout()\n",
    "    plt.show()\n",
    "else:\n",
    "    print(\"Cannot visualize - tags have not been generated yet\")"
   ]
  },
  {
   "cell_type": "markdown",
   "id": "05546f4f",
   "metadata": {},
   "source": [
    "## Add Tags to Components and Failure Types\n",
    "\n",
    "Let's categorize the tags into components and failure types to get better insights."
   ]
  },
  {
   "cell_type": "code",
   "execution_count": null,
   "id": "459e2f49",
   "metadata": {},
   "outputs": [
    {
     "name": "stdout",
     "output_type": "stream",
     "text": [
      "Sample of categorized tags:\n",
      "                                                                                                       CUSTOMER_VERBATIM  \\\n",
      "0                                                                                            STEERING WHEEL COMING APART   \n",
      "1                                                                             CUSTOMER STATES HEATED STEERING WHEEL INOP   \n",
      "2  OWNER REPORTS: THE SUPER CRUISE BAR ON THE STEERING WHEEL IS COMING OF F. CHECK AND ADVISE. ADVISOR RUNNING PRA TOOL.   \n",
      "3                               CUSTOMER STATES THE LETTERING AND FINISH ON THE STEERING WHEEL IS COMING OFF. Plant: SIL   \n",
      "4                                           C/S: CUSTOMER STATES THE SERVICE DRIVER ASSIST SYSTEM MESSAGE IS ON. A DVISE   \n",
      "\n",
      "      component_tags     failure_tags  \n",
      "0  [steering, wheel]  [coming, apart]  \n",
      "1  [steering, wheel]               []  \n",
      "2                 []               []  \n",
      "3         [steering]               []  \n",
      "4                 []               []  \n"
     ]
    }
   ],
   "source": [
    "# Step 7: Categorize tags\n",
    "if 'nltk_tags' in df.columns:\n",
    "    # Simple lists of component words and failure/action words\n",
    "    # You can expand these lists based on your domain knowledge\n",
    "    component_words = ['wheel', 'steering', 'brake', 'motor', 'rotor', 'battery', \n",
    "                      'tire', 'module', 'control', 'light', 'switch', 'cover']\n",
    "    \n",
    "    failure_words = ['vibration', 'noise', 'broken', 'damaged', 'inop', 'failing', \n",
    "                    'loose', 'replaced', 'repaired', 'apart', 'coming']\n",
    "    \n",
    "    # Function to categorize tags\n",
    "    def categorize_tags(tags):\n",
    "        components = [tag for tag in tags if tag in component_words]\n",
    "        failures = [tag for tag in tags if tag in failure_words]\n",
    "        others = [tag for tag in tags if tag not in component_words and tag not in failure_words]\n",
    "        return components, failures, others\n",
    "    \n",
    "    # Apply to each row\n",
    "    categorized = df['nltk_tags'].apply(categorize_tags)\n",
    "    df['component_tags'] = [cat[0] for cat in categorized]\n",
    "    df['failure_tags'] = [cat[1] for cat in categorized]\n",
    "    \n",
    "    # Display a sample\n",
    "    print(\"Sample of categorized tags:\")\n",
    "    sample = df[['CUSTOMER_VERBATIM', 'component_tags', 'failure_tags']].head(5)\n",
    "    print(sample)\n",
    "else:\n",
    "    print(\"Cannot categorize - tags have not been generated yet\")"
   ]
  },
  {
   "cell_type": "markdown",
   "id": "bdec797a",
   "metadata": {},
   "source": [
    "## Save the Results\n",
    "\n",
    "Finally, let's save our dataframe with the new tags to a CSV file."
   ]
  },
  {
   "cell_type": "code",
   "execution_count": null,
   "id": "b6276840",
   "metadata": {},
   "outputs": [
    {
     "name": "stdout",
     "output_type": "stream",
     "text": [
      "Saved results to 'vehicle_repair_data_with_tags.csv'\n"
     ]
    }
   ],
   "source": [
    "# Step 8: Save the results\n",
    "if 'CUSTOMER_VERBATIM' in df.columns and 'tags_string' in df.columns:\n",
    "    # Save to CSV\n",
    "    output_df = df.copy()\n",
    "    output_df.to_csv('vehicle_repair_data_with_tags.csv', index=False)\n",
    "    print(\"Saved results to 'vehicle_repair_data_with_tags.csv'\")\n",
    "else:\n",
    "    print(\"Cannot save results - required columns are missing\")"
   ]
  },
  {
   "cell_type": "markdown",
   "id": "10ff9d7e",
   "metadata": {},
   "source": [
    "## Why This Basic NLTK Approach is Useful for Your Assignment\n",
    "\n",
    "1. **Fulfills Task 2, Point 4**: Generates meaningful tags from free text fields\n",
    "2. **Identifies Key Information**: Finds important components and failure conditions\n",
    "3. **Easy to Explain**: The approach is simple and can be clearly explained in your report\n",
    "4. **Actionable Insights**: The tag categories provide a foundation for stakeholder recommendations\n",
    "5. **Visualization Ready**: The tag frequency data can be used for your required visualizations\n",
    "\n",
    "For your report, you can discuss:\n",
    "- How the tags help summarize the free text information\n",
    "- The most common components and failure types identified\n",
    "- Recommendations based on frequently occurring issues"
   ]
  }
 ],
 "metadata": {
  "kernelspec": {
   "display_name": "Python 3",
   "language": "python",
   "name": "python3"
  },
  "language_info": {
   "codemirror_mode": {
    "name": "ipython",
    "version": 3
   },
   "file_extension": ".py",
   "mimetype": "text/x-python",
   "name": "python",
   "nbconvert_exporter": "python",
   "pygments_lexer": "ipython3",
   "version": "3.12.10"
  }
 },
 "nbformat": 4,
 "nbformat_minor": 5
}
